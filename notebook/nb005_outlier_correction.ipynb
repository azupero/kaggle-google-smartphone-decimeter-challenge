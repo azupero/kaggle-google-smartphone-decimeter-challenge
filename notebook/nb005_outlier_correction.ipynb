{
 "cells": [
  {
   "cell_type": "markdown",
   "metadata": {},
   "source": [
    "# Overview\n",
    "- [Baseline post-processing by outlier correction](https://www.kaggle.com/dehokanta/baseline-post-processing-by-outlier-correction)\n",
    "- 外れ値による後処理"
   ]
  },
  {
   "cell_type": "code",
   "execution_count": 1,
   "metadata": {},
   "outputs": [],
   "source": [
    "import os\n",
    "import numpy as np\n",
    "import pandas as pd\n",
    "from matplotlib import pyplot as plt\n",
    "from matplotlib_venn import venn2, venn2_circles\n",
    "import seaborn as sns\n",
    "from tqdm.notebook import tqdm\n",
    "from pathlib import Path\n",
    "import plotly\n",
    "from plotly import express as px\n",
    "import simdkalman\n",
    "\n",
    "INPUT_DIR = Path(\"../input/google-smartphone-decimeter-challenge\")"
   ]
  },
  {
   "cell_type": "markdown",
   "metadata": {},
   "source": [
    "## utils"
   ]
  },
  {
   "cell_type": "code",
   "execution_count": 2,
   "metadata": {},
   "outputs": [],
   "source": [
    "def calc_haversine(lat1, lon1, lat2, lon2):\n",
    "    \"\"\"Calculates the great circle distance between two points\n",
    "    on the earth. Inputs are array-like and specified in decimal degrees.\n",
    "    \"\"\"\n",
    "    RADIUS = 6_367_000\n",
    "    lat1, lon1, lat2, lon2 = map(np.radians, [lat1, lon1, lat2, lon2])\n",
    "    dlat = lat2 - lat1\n",
    "    dlon = lon2 - lon1\n",
    "    a = np.sin(dlat/2)**2 + \\\n",
    "        np.cos(lat1) * np.cos(lat2) * np.sin(dlon/2)**2\n",
    "    dist = 2 * RADIUS * np.arcsin(a**0.5)\n",
    "    \n",
    "    return dist"
   ]
  },
  {
   "cell_type": "code",
   "execution_count": 3,
   "metadata": {},
   "outputs": [
    {
     "name": "stdout",
     "output_type": "stream",
     "text": [
      "ground_truth.csv count :  73\n"
     ]
    },
    {
     "data": {
      "application/vnd.jupyter.widget-view+json": {
       "model_id": "41a840695e55449d893b8da3fa3c05c3",
       "version_major": 2,
       "version_minor": 0
      },
      "text/plain": [
       "  0%|          | 0/73 [00:00<?, ?it/s]"
      ]
     },
     "metadata": {},
     "output_type": "display_data"
    }
   ],
   "source": [
    "base_train = pd.read_csv(INPUT_DIR / 'baseline_locations_train.csv')\n",
    "base_test = pd.read_csv(INPUT_DIR / 'baseline_locations_test.csv')\n",
    "sample_sub = pd.read_csv(INPUT_DIR / 'sample_submission.csv')\n",
    "\n",
    "# ground_truth\n",
    "gt_files = list(INPUT_DIR.glob('train/*/*/ground_truth.csv'))\n",
    "print('ground_truth.csv count : ', len(gt_files))\n",
    "\n",
    "gts = []\n",
    "for gt_file in tqdm(gt_files):\n",
    "    gts.append(pd.read_csv(gt_file))\n",
    "ground_truth = pd.concat(gts)"
   ]
  },
  {
   "cell_type": "code",
   "execution_count": 4,
   "metadata": {},
   "outputs": [],
   "source": [
    "df_all = ground_truth.merge(base_train, on=[\"collectionName\", \"phoneName\", \"millisSinceGpsEpoch\"], how=\"left\", suffixes=(\"_truth\", \"_basepred\"))"
   ]
  },
  {
   "cell_type": "markdown",
   "metadata": {},
   "source": [
    "## check outliers in training data"
   ]
  },
  {
   "cell_type": "code",
   "execution_count": 5,
   "metadata": {},
   "outputs": [
    {
     "data": {
      "text/plain": [
       "count    131342.000000\n",
       "mean          3.846848\n",
       "std          30.739767\n",
       "min           0.001338\n",
       "25%           1.210976\n",
       "50%           2.065769\n",
       "75%           3.560001\n",
       "max        8340.257976\n",
       "Name: dist_base_gt, dtype: float64"
      ]
     },
     "execution_count": 5,
     "metadata": {},
     "output_type": "execute_result"
    }
   ],
   "source": [
    "df_all[\"dist_base_gt\"] = calc_haversine(df_all[\"latDeg_truth\"], df_all[\"lngDeg_truth\"], df_all[\"latDeg_basepred\"], df_all[\"lngDeg_basepred\"])\n",
    "df_all[\"dist_base_gt\"].describe()"
   ]
  },
  {
   "cell_type": "code",
   "execution_count": 7,
   "metadata": {},
   "outputs": [
    {
     "data": {
      "text/html": [
       "<div>\n",
       "<style scoped>\n",
       "    .dataframe tbody tr th:only-of-type {\n",
       "        vertical-align: middle;\n",
       "    }\n",
       "\n",
       "    .dataframe tbody tr th {\n",
       "        vertical-align: top;\n",
       "    }\n",
       "\n",
       "    .dataframe thead th {\n",
       "        text-align: right;\n",
       "    }\n",
       "</style>\n",
       "<table border=\"1\" class=\"dataframe\">\n",
       "  <thead>\n",
       "    <tr style=\"text-align: right;\">\n",
       "      <th></th>\n",
       "      <th>collectionName</th>\n",
       "      <th>dist_base_gt</th>\n",
       "    </tr>\n",
       "  </thead>\n",
       "  <tbody>\n",
       "    <tr>\n",
       "      <th>64035</th>\n",
       "      <td>2020-09-04-US-SF-1</td>\n",
       "      <td>8340.257976</td>\n",
       "    </tr>\n",
       "    <tr>\n",
       "      <th>114354</th>\n",
       "      <td>2020-07-17-US-MTV-2</td>\n",
       "      <td>5050.995543</td>\n",
       "    </tr>\n",
       "    <tr>\n",
       "      <th>52894</th>\n",
       "      <td>2021-04-26-US-SVL-1</td>\n",
       "      <td>2254.344928</td>\n",
       "    </tr>\n",
       "    <tr>\n",
       "      <th>113362</th>\n",
       "      <td>2020-07-17-US-MTV-2</td>\n",
       "      <td>2026.294654</td>\n",
       "    </tr>\n",
       "    <tr>\n",
       "      <th>113360</th>\n",
       "      <td>2020-07-17-US-MTV-2</td>\n",
       "      <td>1934.676643</td>\n",
       "    </tr>\n",
       "    <tr>\n",
       "      <th>108223</th>\n",
       "      <td>2021-04-29-US-SJC-2</td>\n",
       "      <td>1599.570433</td>\n",
       "    </tr>\n",
       "    <tr>\n",
       "      <th>83930</th>\n",
       "      <td>2020-05-29-US-MTV-1</td>\n",
       "      <td>1128.348831</td>\n",
       "    </tr>\n",
       "    <tr>\n",
       "      <th>113361</th>\n",
       "      <td>2020-07-17-US-MTV-2</td>\n",
       "      <td>1044.316856</td>\n",
       "    </tr>\n",
       "    <tr>\n",
       "      <th>54443</th>\n",
       "      <td>2021-01-05-US-SVL-1</td>\n",
       "      <td>653.703379</td>\n",
       "    </tr>\n",
       "    <tr>\n",
       "      <th>74448</th>\n",
       "      <td>2021-04-15-US-MTV-1</td>\n",
       "      <td>549.061548</td>\n",
       "    </tr>\n",
       "  </tbody>\n",
       "</table>\n",
       "</div>"
      ],
      "text/plain": [
       "             collectionName  dist_base_gt\n",
       "64035    2020-09-04-US-SF-1   8340.257976\n",
       "114354  2020-07-17-US-MTV-2   5050.995543\n",
       "52894   2021-04-26-US-SVL-1   2254.344928\n",
       "113362  2020-07-17-US-MTV-2   2026.294654\n",
       "113360  2020-07-17-US-MTV-2   1934.676643\n",
       "108223  2021-04-29-US-SJC-2   1599.570433\n",
       "83930   2020-05-29-US-MTV-1   1128.348831\n",
       "113361  2020-07-17-US-MTV-2   1044.316856\n",
       "54443   2021-01-05-US-SVL-1    653.703379\n",
       "74448   2021-04-15-US-MTV-1    549.061548"
      ]
     },
     "execution_count": 7,
     "metadata": {},
     "output_type": "execute_result"
    }
   ],
   "source": [
    "df_all.sort_values(by = 'dist_base_gt',ascending = False)[['collectionName','dist_base_gt']].head(10)"
   ]
  },
  {
   "cell_type": "markdown",
   "metadata": {},
   "source": [
    "## correct outliers in test data"
   ]
  },
  {
   "cell_type": "code",
   "execution_count": 10,
   "metadata": {},
   "outputs": [],
   "source": [
    "base_test[\"dist_pre\"] = 0\n",
    "base_test[\"dist_pro\"] = 0\n",
    "\n",
    "base_test[\"latDeg_pre\"] = base_test[\"latDeg\"].shift(periods=1, fill_value=0)\n",
    "base_test[\"lngDeg_pre\"] = base_test[\"lngDeg\"].shift(periods=1, fill_value=0)\n",
    "base_test[\"latDeg_pro\"] = base_test[\"latDeg\"].shift(periods=-1, fill_value=0)\n",
    "base_test[\"lngDeg_pro\"] = base_test[\"lngDeg\"].shift(periods=-1, fill_value=0)\n",
    "base_test[\"dist_pre\"] = calc_haversine(base_test[\"latDeg_pre\"], base_test[\"lngDeg_pre\"], base_test[\"latDeg\"], base_test[\"lngDeg\"])\n",
    "base_test[\"dist_pro\"] = calc_haversine(base_test[\"latDeg_pro\"], base_test[\"lngDeg_pro\"], base_test[\"latDeg\"], base_test[\"lngDeg\"])\n",
    "\n",
    "list_phone = base_test[\"phone\"].unique()\n",
    "for phone in list_phone:\n",
    "    ind_s = base_test[base_test[\"phone\"] == phone].index[0]\n",
    "    ind_e = base_test[base_test[\"phone\"] == phone].index[-1]\n",
    "    base_test.loc[ind_s, \"dist_pre\"] = 0\n",
    "    base_test.loc[ind_e, \"dist_pro\"] = 0"
   ]
  },
  {
   "cell_type": "code",
   "execution_count": 11,
   "metadata": {},
   "outputs": [
    {
     "data": {
      "text/plain": [
       "count    91486.000000\n",
       "mean        16.937410\n",
       "std         12.526582\n",
       "min          0.000000\n",
       "25%          5.200745\n",
       "50%         14.842604\n",
       "75%         28.551707\n",
       "max        391.394578\n",
       "Name: dist_pre, dtype: float64"
      ]
     },
     "execution_count": 11,
     "metadata": {},
     "output_type": "execute_result"
    }
   ],
   "source": [
    "base_test[\"dist_pre\"].describe()"
   ]
  },
  {
   "cell_type": "code",
   "execution_count": 12,
   "metadata": {},
   "outputs": [],
   "source": [
    "pro_95 = base_test[\"dist_pro\"].mean() + (base_test[\"dist_pro\"].std() * 2)\n",
    "pre_95 = base_test[\"dist_pre\"].mean() + (base_test[\"dist_pre\"].std() * 2)\n",
    "ind = base_test[(base_test[\"dist_pro\"] > pro_95) & (base_test[\"dist_pre\"] > pre_95)].index\n",
    "\n",
    "for i in ind:\n",
    "    base_test.loc[i, \"latDeg\"] = (base_test.loc[i-1, \"latDeg\"] + base_test.loc[i+1, \"latDeg\"])/2\n",
    "    base_test.loc[i, \"lngDeg\"] = (base_test.loc[i-1, \"lngDeg\"] + base_test.loc[i+1, \"lngDeg\"])/2"
   ]
  },
  {
   "cell_type": "markdown",
   "metadata": {},
   "source": [
    "## kalman filter"
   ]
  },
  {
   "cell_type": "code",
   "execution_count": 13,
   "metadata": {},
   "outputs": [],
   "source": [
    "T = 1.0\n",
    "state_transition = np.array([[1, 0, T, 0, 0.5 * T ** 2, 0], [0, 1, 0, T, 0, 0.5 * T ** 2], [0, 0, 1, 0, T, 0],\n",
    "                             [0, 0, 0, 1, 0, T], [0, 0, 0, 0, 1, 0], [0, 0, 0, 0, 0, 1]])\n",
    "process_noise = np.diag([1e-5, 1e-5, 5e-6, 5e-6, 1e-6, 1e-6]) + np.ones((6, 6)) * 1e-9\n",
    "observation_model = np.array([[1, 0, 0, 0, 0, 0], [0, 1, 0, 0, 0, 0]])\n",
    "observation_noise = np.diag([5e-5, 5e-5]) + np.ones((2, 2)) * 1e-9\n",
    "\n",
    "kf = simdkalman.KalmanFilter(\n",
    "        state_transition = state_transition,\n",
    "        process_noise = process_noise,\n",
    "        observation_model = observation_model,\n",
    "        observation_noise = observation_noise)"
   ]
  },
  {
   "cell_type": "code",
   "execution_count": 14,
   "metadata": {},
   "outputs": [],
   "source": [
    "def apply_kf_smoothing(df, kf_=kf):\n",
    "    unique_paths = df[['collectionName', 'phoneName']].drop_duplicates().to_numpy()\n",
    "    for collection, phone in tqdm(unique_paths):\n",
    "        cond = np.logical_and(df['collectionName'] == collection, df['phoneName'] == phone)\n",
    "        data = df[cond][['latDeg', 'lngDeg']].to_numpy()\n",
    "        data = data.reshape(1, len(data), 2)\n",
    "        smoothed = kf_.smooth(data)\n",
    "        df.loc[cond, 'latDeg'] = smoothed.states.mean[0, :, 0]\n",
    "        df.loc[cond, 'lngDeg'] = smoothed.states.mean[0, :, 1]\n",
    "    return df\n"
   ]
  },
  {
   "cell_type": "code",
   "execution_count": 15,
   "metadata": {},
   "outputs": [
    {
     "data": {
      "application/vnd.jupyter.widget-view+json": {
       "model_id": "1c9c1263f3564718a97574c56bf7d9a3",
       "version_major": 2,
       "version_minor": 0
      },
      "text/plain": [
       "  0%|          | 0/48 [00:00<?, ?it/s]"
      ]
     },
     "metadata": {},
     "output_type": "display_data"
    }
   ],
   "source": [
    "kf_smoothed_baseline = apply_kf_smoothing(base_test)\n",
    "sample_sub = sample_sub.assign(\n",
    "    latDeg = kf_smoothed_baseline.latDeg,\n",
    "    lngDeg = kf_smoothed_baseline.lngDeg\n",
    ")\n",
    "# sample_sub.to_csv('submission.csv', index=False)"
   ]
  },
  {
   "cell_type": "code",
   "execution_count": null,
   "metadata": {},
   "outputs": [],
   "source": []
  }
 ],
 "metadata": {
  "language_info": {
   "name": "python",
   "nbconvert_exporter": "python"
  },
  "orig_nbformat": 4
 },
 "nbformat": 4,
 "nbformat_minor": 2
}