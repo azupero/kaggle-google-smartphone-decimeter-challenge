{
 "cells": [
  {
   "cell_type": "markdown",
   "metadata": {},
   "source": [
    "# Overview\n",
    "- [GSDC: Position shift](https://www.kaggle.com/wrrosa/gsdc-position-shift)\n",
    "- 予測値をシフトさせる"
   ]
  },
  {
   "cell_type": "code",
   "execution_count": 1,
   "metadata": {},
   "outputs": [],
   "source": [
    "import os\n",
    "import numpy as np\n",
    "import pandas as pd\n",
    "from matplotlib import pyplot as plt\n",
    "from matplotlib_venn import venn2, venn2_circles\n",
    "import seaborn as sns\n",
    "from tqdm.notebook import tqdm\n",
    "from pathlib import Path\n",
    "import plotly\n",
    "from plotly import express as px\n",
    "import optuna\n",
    "import pyproj\n",
    "from pyproj import Proj, transform"
   ]
  },
  {
   "cell_type": "markdown",
   "metadata": {},
   "source": [
    "## utils"
   ]
  },
  {
   "cell_type": "code",
   "execution_count": 2,
   "metadata": {},
   "outputs": [],
   "source": [
    "def calc_haversine(lat1, lon1, lat2, lon2):\n",
    "    \"\"\"Calculates the great circle distance between two points\n",
    "    on the earth. Inputs are array-like and specified in decimal degrees.\n",
    "    \"\"\"\n",
    "    RADIUS = 6_367_000\n",
    "    lat1, lon1, lat2, lon2 = map(np.radians, [lat1, lon1, lat2, lon2])\n",
    "    dlat = lat2 - lat1\n",
    "    dlon = lon2 - lon1\n",
    "    a = np.sin(dlat/2)**2 + \\\n",
    "        np.cos(lat1) * np.cos(lat2) * np.sin(dlon/2)**2\n",
    "    dist = 2 * RADIUS * np.arcsin(a**0.5)\n",
    "    \n",
    "    return dist\n",
    "\n",
    "\n",
    "def compute_dist(oof, gt):\n",
    "    # oof = pd.read_csv(fname)\n",
    "    # gt = pd.read_csv(fname2)\n",
    "    df = oof.merge(gt, on = ['phone','millisSinceGpsEpoch'])\n",
    "    dst_oof = calc_haversine(df.latDeg_x,df.lngDeg_x, df.latDeg_y, df.lngDeg_y)\n",
    "    scores = pd.DataFrame({'phone': df.phone,'dst': dst_oof})\n",
    "    scores_grp = scores.groupby('phone')\n",
    "    d50 = scores_grp.quantile(.50).reset_index()\n",
    "    d50.columns = ['phone','q50']\n",
    "    d95 = scores_grp.quantile(.95).reset_index()\n",
    "    d95.columns = ['phone','q95']\n",
    "    return (scores_grp.quantile(.50).mean() + scores_grp.quantile(.95).mean())/2, d50.merge(d95)\n",
    "\n",
    "\n",
    "def WGS84_to_ECEF(lat, lon, alt):\n",
    "    # convert to radians\n",
    "    rad_lat = lat * (np.pi / 180.0)\n",
    "    rad_lon = lon * (np.pi / 180.0)\n",
    "    a    = 6378137.0\n",
    "    # f is the flattening factor\n",
    "    finv = 298.257223563\n",
    "    f = 1 / finv   \n",
    "    # e is the eccentricity\n",
    "    e2 = 1 - (1 - f) * (1 - f)    \n",
    "    # N is the radius of curvature in the prime vertical\n",
    "    N = a / np.sqrt(1 - e2 * np.sin(rad_lat) * np.sin(rad_lat))\n",
    "    x = (N + alt) * np.cos(rad_lat) * np.cos(rad_lon)\n",
    "    y = (N + alt) * np.cos(rad_lat) * np.sin(rad_lon)\n",
    "    z = (N * (1 - e2) + alt)        * np.sin(rad_lat)\n",
    "    return x, y, z\n",
    "\n",
    "\n",
    "transformer = pyproj.Transformer.from_crs(\n",
    "    {\"proj\":'geocent', \"ellps\":'WGS84', \"datum\":'WGS84'},\n",
    "    {\"proj\":'latlong', \"ellps\":'WGS84', \"datum\":'WGS84'},)\n",
    "\n",
    "\n",
    "def ECEF_to_WGS84(x,y,z):\n",
    "    lon, lat, alt = transformer.transform(x,y,z,radians=False)\n",
    "    return lon, lat, alt"
   ]
  },
  {
   "cell_type": "code",
   "execution_count": 3,
   "metadata": {},
   "outputs": [],
   "source": [
    "datadir = Path('../input/google-smartphone-decimeter-challenge/')\n",
    "testdir = datadir / 'test'\n",
    "traindir = datadir / 'train'\n",
    "\n",
    "sample_sub = pd.read_csv(datadir/'sample_submission.csv')\n",
    "sub_columns = sample_sub.columns\n",
    "\n",
    "baseline_train = pd.read_csv(datadir / 'baseline_locations_train.csv')\n",
    "# baseline_train[sub_columns].to_csv('btrain.csv',index = False)\n",
    "baseline_test = pd.read_csv(datadir / 'baseline_locations_test.csv')\n",
    "# baseline_test[sub_columns].to_csv('btest.csv',index = False)"
   ]
  },
  {
   "cell_type": "code",
   "execution_count": 6,
   "metadata": {},
   "outputs": [
    {
     "data": {
      "text/plain": [
       "count    131342.000000\n",
       "mean         87.028847\n",
       "std          56.999876\n",
       "min          31.160000\n",
       "25%          37.160000\n",
       "50%          63.520000\n",
       "75%         122.330000\n",
       "max         247.850000\n",
       "Name: heightAboveWgs84EllipsoidM, dtype: float64"
      ]
     },
     "execution_count": 6,
     "metadata": {},
     "output_type": "execute_result"
    }
   ],
   "source": [
    "msge = 'millisSinceGpsEpoch'\n",
    "\n",
    "gt = pd.DataFrame()\n",
    "for d in os.listdir(traindir):\n",
    "    for p in os.listdir(traindir/d):\n",
    "        gt = gt.append(pd.read_csv(traindir/d/p/'ground_truth.csv'))\n",
    "\n",
    "gt['phone'] = gt['collectionName'] + '_' + gt['phoneName']\n",
    "# gt[sub_columns].to_csv('gt.csv', index = False)\n",
    "gt['heightAboveWgs84EllipsoidM'].describe()"
   ]
  },
  {
   "cell_type": "code",
   "execution_count": 8,
   "metadata": {},
   "outputs": [
    {
     "name": "stdout",
     "output_type": "stream",
     "text": [
      "dst    5.287971\n",
      "dtype: float64\n"
     ]
    },
    {
     "data": {
      "text/html": [
       "<div>\n",
       "<style scoped>\n",
       "    .dataframe tbody tr th:only-of-type {\n",
       "        vertical-align: middle;\n",
       "    }\n",
       "\n",
       "    .dataframe tbody tr th {\n",
       "        vertical-align: top;\n",
       "    }\n",
       "\n",
       "    .dataframe thead th {\n",
       "        text-align: right;\n",
       "    }\n",
       "</style>\n",
       "<table border=\"1\" class=\"dataframe\">\n",
       "  <thead>\n",
       "    <tr style=\"text-align: right;\">\n",
       "      <th></th>\n",
       "      <th>phone</th>\n",
       "      <th>q50</th>\n",
       "      <th>q95</th>\n",
       "    </tr>\n",
       "  </thead>\n",
       "  <tbody>\n",
       "    <tr>\n",
       "      <th>0</th>\n",
       "      <td>2020-05-14-US-MTV-1_Pixel4</td>\n",
       "      <td>1.313621</td>\n",
       "      <td>2.887582</td>\n",
       "    </tr>\n",
       "    <tr>\n",
       "      <th>1</th>\n",
       "      <td>2020-05-14-US-MTV-1_Pixel4XLModded</td>\n",
       "      <td>1.987538</td>\n",
       "      <td>4.352359</td>\n",
       "    </tr>\n",
       "    <tr>\n",
       "      <th>2</th>\n",
       "      <td>2020-05-14-US-MTV-2_Pixel4</td>\n",
       "      <td>1.367776</td>\n",
       "      <td>2.799897</td>\n",
       "    </tr>\n",
       "    <tr>\n",
       "      <th>3</th>\n",
       "      <td>2020-05-14-US-MTV-2_Pixel4XLModded</td>\n",
       "      <td>3.357252</td>\n",
       "      <td>11.367965</td>\n",
       "    </tr>\n",
       "    <tr>\n",
       "      <th>4</th>\n",
       "      <td>2020-05-21-US-MTV-1_Pixel4</td>\n",
       "      <td>1.810603</td>\n",
       "      <td>4.670839</td>\n",
       "    </tr>\n",
       "    <tr>\n",
       "      <th>...</th>\n",
       "      <td>...</td>\n",
       "      <td>...</td>\n",
       "      <td>...</td>\n",
       "    </tr>\n",
       "    <tr>\n",
       "      <th>68</th>\n",
       "      <td>2021-04-29-US-MTV-1_Pixel4</td>\n",
       "      <td>6.027567</td>\n",
       "      <td>16.040323</td>\n",
       "    </tr>\n",
       "    <tr>\n",
       "      <th>69</th>\n",
       "      <td>2021-04-29-US-MTV-1_Pixel5</td>\n",
       "      <td>6.595323</td>\n",
       "      <td>15.591238</td>\n",
       "    </tr>\n",
       "    <tr>\n",
       "      <th>70</th>\n",
       "      <td>2021-04-29-US-MTV-1_SamsungS20Ultra</td>\n",
       "      <td>6.346009</td>\n",
       "      <td>13.736971</td>\n",
       "    </tr>\n",
       "    <tr>\n",
       "      <th>71</th>\n",
       "      <td>2021-04-29-US-SJC-2_Pixel4</td>\n",
       "      <td>4.837470</td>\n",
       "      <td>35.527722</td>\n",
       "    </tr>\n",
       "    <tr>\n",
       "      <th>72</th>\n",
       "      <td>2021-04-29-US-SJC-2_SamsungS20Ultra</td>\n",
       "      <td>5.944472</td>\n",
       "      <td>32.945158</td>\n",
       "    </tr>\n",
       "  </tbody>\n",
       "</table>\n",
       "<p>73 rows × 3 columns</p>\n",
       "</div>"
      ],
      "text/plain": [
       "                                  phone       q50        q95\n",
       "0            2020-05-14-US-MTV-1_Pixel4  1.313621   2.887582\n",
       "1    2020-05-14-US-MTV-1_Pixel4XLModded  1.987538   4.352359\n",
       "2            2020-05-14-US-MTV-2_Pixel4  1.367776   2.799897\n",
       "3    2020-05-14-US-MTV-2_Pixel4XLModded  3.357252  11.367965\n",
       "4            2020-05-21-US-MTV-1_Pixel4  1.810603   4.670839\n",
       "..                                  ...       ...        ...\n",
       "68           2021-04-29-US-MTV-1_Pixel4  6.027567  16.040323\n",
       "69           2021-04-29-US-MTV-1_Pixel5  6.595323  15.591238\n",
       "70  2021-04-29-US-MTV-1_SamsungS20Ultra  6.346009  13.736971\n",
       "71           2021-04-29-US-SJC-2_Pixel4  4.837470  35.527722\n",
       "72  2021-04-29-US-SJC-2_SamsungS20Ultra  5.944472  32.945158\n",
       "\n",
       "[73 rows x 3 columns]"
      ]
     },
     "execution_count": 8,
     "metadata": {},
     "output_type": "execute_result"
    }
   ],
   "source": [
    "score, scores = compute_dist(baseline_train, gt)\n",
    "print(score)\n",
    "scores"
   ]
  },
  {
   "cell_type": "code",
   "execution_count": null,
   "metadata": {},
   "outputs": [],
   "source": [
    "def position_shift(d, a):\n",
    "    # d = pd.read_csv(fname)\n",
    "    d = d.copy()\n",
    "    d['heightAboveWgs84EllipsoidM'] = 63.5\n",
    "    d['x'], d['y'], d['z'] = zip(*d.apply(lambda x: WGS84_to_ECEF(x.latDeg, x.lngDeg, x.heightAboveWgs84EllipsoidM), axis=1))\n",
    "\n",
    "    #a = -0.2\n",
    "    d.sort_values(['phone', msge], inplace=True)\n",
    "    for fi in ['x','y','z']:\n",
    "        d[[fi+'p']] = d[fi].shift().where(d['phone'].eq(d['phone'].shift()))\n",
    "        d[[fi+'diff']] = d[fi]-d[fi+'p']\n",
    "    #d[['yp']] = d['y'].shift().where(d['phone'].eq(d['phone'].shift()))\n",
    "    d[['dist']] = np.sqrt(d['xdiff']**2 + d['ydiff']**2+ d['zdiff']**2)\n",
    "    for fi in ['x','y','z']:\n",
    "        d[[fi+'new']] = d[fi+'p'] + d[fi+'diff']*(1-a/d['dist'])\n",
    "    lng, lat, alt = ECEF_to_WGS84(d['xnew'].values,d['ynew'].values,d['znew'].values)\n",
    "    \n",
    "    lng[np.isnan(lng)] = d.loc[np.isnan(lng),'lngDeg']\n",
    "    lat[np.isnan(lat)] = d.loc[np.isnan(lat),'latDeg']\n",
    "    d['latDeg'] = lat\n",
    "    d['lngDeg'] = lng\n",
    "    \n",
    "    d.sort_values(['phone',msge],inplace = True)\n",
    "    # ffname = 'shifted_' + fname\n",
    "    # d[sub_columns].to_csv(ffname, index = False)\n",
    "    return d\n",
    "\n",
    "\n",
    "def objective(trial):\n",
    "    a = trial.suggest_uniform('a', -1, 1)\n",
    "    score, scores = compute_dist(position_shift(baseline_train, a), gt)\n",
    "    return score\n",
    "\n",
    "\n",
    "study = optuna.create_study()\n",
    "study.optimize(objective, n_trials=30)"
   ]
  },
  {
   "cell_type": "code",
   "execution_count": null,
   "metadata": {},
   "outputs": [],
   "source": [
    "study.best_params"
   ]
  },
  {
   "cell_type": "code",
   "execution_count": null,
   "metadata": {},
   "outputs": [],
   "source": [
    "position_shift(sample_sub, a = study.best_params['a'])"
   ]
  },
  {
   "cell_type": "code",
   "execution_count": null,
   "metadata": {},
   "outputs": [],
   "source": []
  }
 ],
 "metadata": {
  "interpreter": {
   "hash": "3c1f77316cdd079bee43b05e03cfb877c49631f37214410f6b3c8418ecf7a9b0"
  },
  "kernelspec": {
   "display_name": "Python 3.8.8 64-bit ('.venv': poetry)",
   "name": "python3"
  },
  "language_info": {
   "codemirror_mode": {
    "name": "ipython",
    "version": 3
   },
   "file_extension": ".py",
   "mimetype": "text/x-python",
   "name": "python",
   "nbconvert_exporter": "python",
   "pygments_lexer": "ipython3",
   "version": "3.8.8"
  },
  "orig_nbformat": 4
 },
 "nbformat": 4,
 "nbformat_minor": 2
}