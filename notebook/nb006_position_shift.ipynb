{
 "cells": [
  {
   "cell_type": "markdown",
   "metadata": {},
   "source": [
    "# Overview\n",
    "- [GSDC: Position shift](https://www.kaggle.com/wrrosa/gsdc-position-shift)\n",
    "- 予測値をシフトさせる"
   ]
  },
  {
   "cell_type": "markdown",
   "metadata": {},
   "source": []
  }
 ],
 "metadata": {
  "interpreter": {
   "hash": "3c1f77316cdd079bee43b05e03cfb877c49631f37214410f6b3c8418ecf7a9b0"
  },
  "kernelspec": {
   "display_name": "Python 3.8.8  ('.venv': venv)",
   "name": "python3"
  },
  "language_info": {
   "name": "python",
   "version": ""
  },
  "orig_nbformat": 4
 },
 "nbformat": 4,
 "nbformat_minor": 2
}